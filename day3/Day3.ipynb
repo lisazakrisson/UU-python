{
 "cells": [
  {
   "cell_type": "code",
   "execution_count": 1,
   "id": "07eed16a",
   "metadata": {},
   "outputs": [],
   "source": [
    "from classroom import Student"
   ]
  },
  {
   "cell_type": "code",
   "execution_count": 2,
   "id": "aafc4fd5",
   "metadata": {},
   "outputs": [],
   "source": [
    "me = Student('Benedikt', 'Daurer', 'physics')"
   ]
  },
  {
   "cell_type": "code",
   "execution_count": 3,
   "id": "044fdde6",
   "metadata": {},
   "outputs": [],
   "source": [
    "from classroom import Person"
   ]
  },
  {
   "cell_type": "code",
   "execution_count": 4,
   "id": "31c00e8b",
   "metadata": {},
   "outputs": [],
   "source": [
    "test = Person('name1', 'name2')"
   ]
  },
  {
   "cell_type": "code",
   "execution_count": 5,
   "id": "204dcea4",
   "metadata": {},
   "outputs": [
    {
     "name": "stdout",
     "output_type": "stream",
     "text": [
      "Name: Benedikt Daurer\n"
     ]
    }
   ],
   "source": [
    "me.printName()"
   ]
  },
  {
   "cell_type": "code",
   "execution_count": 6,
   "id": "fda540a9",
   "metadata": {},
   "outputs": [
    {
     "name": "stdout",
     "output_type": "stream",
     "text": [
      "Name: Benedikt Daurer. Subject: physics\n"
     ]
    }
   ],
   "source": [
    "me.printStudent()"
   ]
  },
  {
   "cell_type": "code",
   "execution_count": 7,
   "id": "ef54acd6",
   "metadata": {},
   "outputs": [],
   "source": [
    "from classroom import Teacher"
   ]
  },
  {
   "cell_type": "code",
   "execution_count": 8,
   "id": "5c2e730e",
   "metadata": {},
   "outputs": [],
   "source": [
    "test2 = Teacher('lisa', 'z', 'python')"
   ]
  },
  {
   "cell_type": "code",
   "execution_count": 11,
   "id": "9dc3941a",
   "metadata": {},
   "outputs": [
    {
     "name": "stdout",
     "output_type": "stream",
     "text": [
      "Name: lisa z. Course: python\n"
     ]
    }
   ],
   "source": [
    "test2.printCourse()"
   ]
  },
  {
   "cell_type": "code",
   "execution_count": null,
   "id": "8996688f",
   "metadata": {},
   "outputs": [],
   "source": []
  }
 ],
 "metadata": {
  "kernelspec": {
   "display_name": "Python 3 (ipykernel)",
   "language": "python",
   "name": "python3"
  },
  "language_info": {
   "codemirror_mode": {
    "name": "ipython",
    "version": 3
   },
   "file_extension": ".py",
   "mimetype": "text/x-python",
   "name": "python",
   "nbconvert_exporter": "python",
   "pygments_lexer": "ipython3",
   "version": "3.9.7"
  },
  "toc": {
   "base_numbering": 1,
   "nav_menu": {},
   "number_sections": true,
   "sideBar": true,
   "skip_h1_title": true,
   "title_cell": "Table of Contents",
   "title_sidebar": "Contents",
   "toc_cell": false,
   "toc_position": {
    "height": "calc(100% - 180px)",
    "left": "10px",
    "top": "150px",
    "width": "420px"
   },
   "toc_section_display": true,
   "toc_window_display": true
  }
 },
 "nbformat": 4,
 "nbformat_minor": 5
}
